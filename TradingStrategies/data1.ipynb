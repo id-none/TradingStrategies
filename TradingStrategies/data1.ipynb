{
 "cells": [
  {
   "cell_type": "code",
   "execution_count": 1,
   "metadata": {},
   "outputs": [],
   "source": [
    "import pandas as pd\n",
    "import numpy as np"
   ]
  },
  {
   "cell_type": "code",
   "execution_count": 2,
   "metadata": {},
   "outputs": [],
   "source": [
    "df0 = pd.read_excel('2022_Problem_C_DATA/gold-pre.xlsx',)\n",
    "df1 = pd.read_excel('2022_Problem_C_DATA/gold-pre.xlsx')\n"
   ]
  },
  {
   "cell_type": "code",
   "execution_count": 3,
   "metadata": {},
   "outputs": [
    {
     "name": "stdout",
     "output_type": "stream",
     "text": [
      "1835\n",
      "1835\n",
      "             ds         yhat\n",
      "0    2016-09-12  1326.457708\n",
      "1    2016-09-13  1324.857290\n",
      "2    2016-09-14  1322.919793\n",
      "3    2016-09-15  1320.588886\n",
      "4    2016-09-16  1318.432368\n",
      "...         ...          ...\n",
      "1830 2021-09-06  1805.363837\n",
      "1831 2021-09-07  1804.785381\n",
      "1832 2021-09-08  1803.889275\n",
      "1833 2021-09-09  1802.599942\n",
      "1834 2021-09-10  1801.465480\n",
      "\n",
      "[1835 rows x 2 columns]\n"
     ]
    }
   ],
   "source": [
    "print(len(df0))\n",
    "print(len(df1))\n",
    "df1.fillna(method='ffill',inplace=True)\n",
    "print(df1)\n",
    "df1.to_excel('resoult.xlsx',index=True)"
   ]
  },
  {
   "cell_type": "code",
   "execution_count": 15,
   "metadata": {},
   "outputs": [
    {
     "name": "stdout",
     "output_type": "stream",
     "text": [
      "561\n"
     ]
    }
   ],
   "source": [
    "f0 = open('2022_Problem_C_DATA/BCHAIN-MKPRU_1.txt','r',encoding=\"utf-8\")\n",
    "f1 = open('2022_Problem_C_DATA/LBMA-GOLD_1.txt','r',encoding=\"utf-8\")\n",
    "f2 = open('2022_Problem_C_DATA/resoult.txt','w',encoding=\"utf-8\")\n",
    "ls = []\n",
    "text1 = f1.readlines()\n",
    "text1 = [line.strip(\"\\n\") for line in text1]\n",
    "for i in text1:\n",
    "    ls.append(i)\n",
    "# print(ls)\n",
    "text0 = f0.readlines()\n",
    "text0 = [line.strip(\"\\n\") for line in text0]\n",
    "\n",
    "n = 0\n",
    "for i in text0:\n",
    "    if i not in ls:\n",
    "        f2.write(i+\"\\n\")\n",
    "        n = n + 1\n",
    "print(n)\n"
   ]
  }
 ],
 "metadata": {
  "interpreter": {
   "hash": "916dbcbb3f70747c44a77c7bcd40155683ae19c65e1c03b4aa3499c5328201f1"
  },
  "kernelspec": {
   "display_name": "Python 3.8.10 64-bit",
   "language": "python",
   "name": "python3"
  },
  "language_info": {
   "codemirror_mode": {
    "name": "ipython",
    "version": 3
   },
   "file_extension": ".py",
   "mimetype": "text/x-python",
   "name": "python",
   "nbconvert_exporter": "python",
   "pygments_lexer": "ipython3",
   "version": "3.8.10"
  },
  "orig_nbformat": 4
 },
 "nbformat": 4,
 "nbformat_minor": 2
}
